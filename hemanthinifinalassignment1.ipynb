{
  "nbformat": 4,
  "nbformat_minor": 0,
  "metadata": {
    "colab": {
      "provenance": []
    },
    "kernelspec": {
      "name": "python3",
      "display_name": "Python 3"
    },
    "language_info": {
      "name": "python"
    }
  },
  "cells": [
    {
      "cell_type": "code",
      "execution_count": 75,
      "metadata": {
        "colab": {
          "base_uri": "https://localhost:8080/"
        },
        "id": "I8J7-lRWpoqg",
        "outputId": "09fc6d56-fde8-4911-f5f0-e3628c6246a1"
      },
      "outputs": [
        {
          "output_type": "stream",
          "name": "stdout",
          "text": [
            "Requirement already satisfied: tensorflow in /usr/local/lib/python3.10/dist-packages (2.14.0)\n",
            "Requirement already satisfied: absl-py>=1.0.0 in /usr/local/lib/python3.10/dist-packages (from tensorflow) (1.4.0)\n",
            "Requirement already satisfied: astunparse>=1.6.0 in /usr/local/lib/python3.10/dist-packages (from tensorflow) (1.6.3)\n",
            "Requirement already satisfied: flatbuffers>=23.5.26 in /usr/local/lib/python3.10/dist-packages (from tensorflow) (23.5.26)\n",
            "Requirement already satisfied: gast!=0.5.0,!=0.5.1,!=0.5.2,>=0.2.1 in /usr/local/lib/python3.10/dist-packages (from tensorflow) (0.5.4)\n",
            "Requirement already satisfied: google-pasta>=0.1.1 in /usr/local/lib/python3.10/dist-packages (from tensorflow) (0.2.0)\n",
            "Requirement already satisfied: h5py>=2.9.0 in /usr/local/lib/python3.10/dist-packages (from tensorflow) (3.9.0)\n",
            "Requirement already satisfied: libclang>=13.0.0 in /usr/local/lib/python3.10/dist-packages (from tensorflow) (16.0.6)\n",
            "Requirement already satisfied: ml-dtypes==0.2.0 in /usr/local/lib/python3.10/dist-packages (from tensorflow) (0.2.0)\n",
            "Requirement already satisfied: numpy>=1.23.5 in /usr/local/lib/python3.10/dist-packages (from tensorflow) (1.23.5)\n",
            "Requirement already satisfied: opt-einsum>=2.3.2 in /usr/local/lib/python3.10/dist-packages (from tensorflow) (3.3.0)\n",
            "Requirement already satisfied: packaging in /usr/local/lib/python3.10/dist-packages (from tensorflow) (23.2)\n",
            "Requirement already satisfied: protobuf!=4.21.0,!=4.21.1,!=4.21.2,!=4.21.3,!=4.21.4,!=4.21.5,<5.0.0dev,>=3.20.3 in /usr/local/lib/python3.10/dist-packages (from tensorflow) (3.20.3)\n",
            "Requirement already satisfied: setuptools in /usr/local/lib/python3.10/dist-packages (from tensorflow) (67.7.2)\n",
            "Requirement already satisfied: six>=1.12.0 in /usr/local/lib/python3.10/dist-packages (from tensorflow) (1.16.0)\n",
            "Requirement already satisfied: termcolor>=1.1.0 in /usr/local/lib/python3.10/dist-packages (from tensorflow) (2.4.0)\n",
            "Requirement already satisfied: typing-extensions>=3.6.6 in /usr/local/lib/python3.10/dist-packages (from tensorflow) (4.5.0)\n",
            "Requirement already satisfied: wrapt<1.15,>=1.11.0 in /usr/local/lib/python3.10/dist-packages (from tensorflow) (1.14.1)\n",
            "Requirement already satisfied: tensorflow-io-gcs-filesystem>=0.23.1 in /usr/local/lib/python3.10/dist-packages (from tensorflow) (0.34.0)\n",
            "Requirement already satisfied: grpcio<2.0,>=1.24.3 in /usr/local/lib/python3.10/dist-packages (from tensorflow) (1.59.3)\n",
            "Requirement already satisfied: tensorboard<2.15,>=2.14 in /usr/local/lib/python3.10/dist-packages (from tensorflow) (2.14.1)\n",
            "Requirement already satisfied: tensorflow-estimator<2.15,>=2.14.0 in /usr/local/lib/python3.10/dist-packages (from tensorflow) (2.14.0)\n",
            "Requirement already satisfied: keras<2.15,>=2.14.0 in /usr/local/lib/python3.10/dist-packages (from tensorflow) (2.14.0)\n",
            "Requirement already satisfied: wheel<1.0,>=0.23.0 in /usr/local/lib/python3.10/dist-packages (from astunparse>=1.6.0->tensorflow) (0.42.0)\n",
            "Requirement already satisfied: google-auth<3,>=1.6.3 in /usr/local/lib/python3.10/dist-packages (from tensorboard<2.15,>=2.14->tensorflow) (2.17.3)\n",
            "Requirement already satisfied: google-auth-oauthlib<1.1,>=0.5 in /usr/local/lib/python3.10/dist-packages (from tensorboard<2.15,>=2.14->tensorflow) (1.0.0)\n",
            "Requirement already satisfied: markdown>=2.6.8 in /usr/local/lib/python3.10/dist-packages (from tensorboard<2.15,>=2.14->tensorflow) (3.5.1)\n",
            "Requirement already satisfied: requests<3,>=2.21.0 in /usr/local/lib/python3.10/dist-packages (from tensorboard<2.15,>=2.14->tensorflow) (2.31.0)\n",
            "Requirement already satisfied: tensorboard-data-server<0.8.0,>=0.7.0 in /usr/local/lib/python3.10/dist-packages (from tensorboard<2.15,>=2.14->tensorflow) (0.7.2)\n",
            "Requirement already satisfied: werkzeug>=1.0.1 in /usr/local/lib/python3.10/dist-packages (from tensorboard<2.15,>=2.14->tensorflow) (3.0.1)\n",
            "Requirement already satisfied: cachetools<6.0,>=2.0.0 in /usr/local/lib/python3.10/dist-packages (from google-auth<3,>=1.6.3->tensorboard<2.15,>=2.14->tensorflow) (5.3.2)\n",
            "Requirement already satisfied: pyasn1-modules>=0.2.1 in /usr/local/lib/python3.10/dist-packages (from google-auth<3,>=1.6.3->tensorboard<2.15,>=2.14->tensorflow) (0.3.0)\n",
            "Requirement already satisfied: rsa<5,>=3.1.4 in /usr/local/lib/python3.10/dist-packages (from google-auth<3,>=1.6.3->tensorboard<2.15,>=2.14->tensorflow) (4.9)\n",
            "Requirement already satisfied: requests-oauthlib>=0.7.0 in /usr/local/lib/python3.10/dist-packages (from google-auth-oauthlib<1.1,>=0.5->tensorboard<2.15,>=2.14->tensorflow) (1.3.1)\n",
            "Requirement already satisfied: charset-normalizer<4,>=2 in /usr/local/lib/python3.10/dist-packages (from requests<3,>=2.21.0->tensorboard<2.15,>=2.14->tensorflow) (3.3.2)\n",
            "Requirement already satisfied: idna<4,>=2.5 in /usr/local/lib/python3.10/dist-packages (from requests<3,>=2.21.0->tensorboard<2.15,>=2.14->tensorflow) (3.6)\n",
            "Requirement already satisfied: urllib3<3,>=1.21.1 in /usr/local/lib/python3.10/dist-packages (from requests<3,>=2.21.0->tensorboard<2.15,>=2.14->tensorflow) (2.0.7)\n",
            "Requirement already satisfied: certifi>=2017.4.17 in /usr/local/lib/python3.10/dist-packages (from requests<3,>=2.21.0->tensorboard<2.15,>=2.14->tensorflow) (2023.11.17)\n",
            "Requirement already satisfied: MarkupSafe>=2.1.1 in /usr/local/lib/python3.10/dist-packages (from werkzeug>=1.0.1->tensorboard<2.15,>=2.14->tensorflow) (2.1.3)\n",
            "Requirement already satisfied: pyasn1<0.6.0,>=0.4.6 in /usr/local/lib/python3.10/dist-packages (from pyasn1-modules>=0.2.1->google-auth<3,>=1.6.3->tensorboard<2.15,>=2.14->tensorflow) (0.5.1)\n",
            "Requirement already satisfied: oauthlib>=3.0.0 in /usr/local/lib/python3.10/dist-packages (from requests-oauthlib>=0.7.0->google-auth-oauthlib<1.1,>=0.5->tensorboard<2.15,>=2.14->tensorflow) (3.2.2)\n"
          ]
        }
      ],
      "source": [
        "pip install tensorflow"
      ]
    },
    {
      "cell_type": "code",
      "source": [
        "import numpy as np\n",
        "import matplotlib.pyplot as plt\n",
        "\n",
        "import tensorflow as tf\n",
        "\n",
        "print(tf.__version__)"
      ],
      "metadata": {
        "colab": {
          "base_uri": "https://localhost:8080/"
        },
        "id": "Efhvcuu2p4Pf",
        "outputId": "d77f81a5-00d9-4eb2-96d6-a825af34bb7d"
      },
      "execution_count": 76,
      "outputs": [
        {
          "output_type": "stream",
          "name": "stdout",
          "text": [
            "2.14.0\n"
          ]
        }
      ]
    },
    {
      "cell_type": "code",
      "source": [
        "(X_train, t_train), (X_test, t_test) = tf.keras.datasets.mnist.load_data()"
      ],
      "metadata": {
        "id": "ndkrLxEBp4Sx"
      },
      "execution_count": 77,
      "outputs": []
    },
    {
      "cell_type": "code",
      "source": [
        "print(\"Training data:\", X_train.shape, t_train.shape)\n",
        "print(\"Test data:\", X_test.shape, t_test.shape)\n",
        "\n",
        "idx = 682\n",
        "x = X_train[idx, :]\n",
        "t = t_train[idx]\n",
        "print(\"x:\", x)\n",
        "print(\"x (shape):\", x.shape)\n",
        "print(\"t:\", t)\n",
        "\n",
        "plt.figure(figsize=(5, 5))\n",
        "plt.imshow(x, cmap=\"gray\")\n",
        "plt.colorbar()\n",
        "plt.show()"
      ],
      "metadata": {
        "colab": {
          "base_uri": "https://localhost:8080/",
          "height": 1000
        },
        "id": "mLP0m4xvp4V7",
        "outputId": "1d2ff9a6-b53b-4053-d6f5-c3eab63425e2"
      },
      "execution_count": 78,
      "outputs": [
        {
          "output_type": "stream",
          "name": "stdout",
          "text": [
            "Training data: (60000, 28, 28) (60000,)\n",
            "Test data: (10000, 28, 28) (10000,)\n",
            "x: [[  0   0   0   0   0   0   0   0   0   0   0   0   0   0   0   0   0   0\n",
            "    0   0   0   0   0   0   0   0   0   0]\n",
            " [  0   0   0   0   0   0   0   0   0   0   0   0   0   0   0   0   0   0\n",
            "    0   0   0   0   0   0   0   0   0   0]\n",
            " [  0   0   0   0   0   0   0   0   0   0   0   0   0   0   0   0   0   0\n",
            "    0   0   0   0   0   0   0   0   0   0]\n",
            " [  0   0   0   0   0   0   0   0   0   0   0   0   0   0   0   0   0   0\n",
            "    0   0   0   0   0   0   0   0   0   0]\n",
            " [  0   0   0   0   0   0   0   0   0   0   0   0   0   0  83 149   0   0\n",
            "    0   0   0   0   0   0   0   0   0   0]\n",
            " [  0   0   0   0   0   0   0   0   0   0   0   0   0   0 104 245   9   0\n",
            "    0   0   0   0   0   0   0   0   0   0]\n",
            " [  0   0   0   0   0   0   0   0   0   0   0   0   0   0  32 254  40   0\n",
            "    0   0   0   0   0   0   0   0   0   0]\n",
            " [  0   0   0   0   0   0   0  66  68   0   0   0   0   0  15 232 144   0\n",
            "    0   0   0   0   0   0   0   0   0   0]\n",
            " [  0   0   0   0   0   0   0 166 128   0   0   0   0   0   0 135 208   4\n",
            "    0   0   0   0   0   0   0   0   0   0]\n",
            " [  0   0   0   0   0   0   0 181 128   0   0   0   0   0   0  64 254  88\n",
            "    0   0   0   0   0   0   0   0   0   0]\n",
            " [  0   0   0   0   0   0   0 240 105   0   0   0   0   0   0  24 245 126\n",
            "    0   0   0   0   0   0   0   0   0   0]\n",
            " [  0   0   0   0   0   0   0 232  30   0   0   0   0   0   0   0 136 190\n",
            "    4   0   0   0   0   0   0   0   0   0]\n",
            " [  0   0   0   0   0   0  36 230   0   0   0   0   0   0   0   0  96 255\n",
            "   41   0   0   0   0   0   0   0   0   0]\n",
            " [  0   0   0   0   0   0  60 236   0   0   0   0   0   0   0   0  23 254\n",
            "   92   0   0   0   0   0   0   0   0   0]\n",
            " [  0   0   0   0   0   0 102 236   0   0   0   0   0  20   1  21  85 254\n",
            "   92   0   0   0   0   0   0   0   0   0]\n",
            " [  0   0   0   0   0   0 133 244 104 150 177 222 252 227 213 188 189 167\n",
            "  165   0   0   0   0   0   0   0   0   0]\n",
            " [  0   0   0   0   0   0  58 251 205 191 157 117  44   7   0   0   0 129\n",
            "  227   0   0   0   0   0   0   0   0   0]\n",
            " [  0   0   0   0   0   0   0  10   3   0   0   0   0   0   0   0   0 129\n",
            "  241   6   0   0   0   0   0   0   0   0]\n",
            " [  0   0   0   0   0   0   0   0   0   0   0   0   0   0   0   0   0 129\n",
            "  254  59   0   0   0   0   0   0   0   0]\n",
            " [  0   0   0   0   0   0   0   0   0   0   0   0   0   0   0   0   0 129\n",
            "  254  59   0   0   0   0   0   0   0   0]\n",
            " [  0   0   0   0   0   0   0   0   0   0   0   0   0   0   0   0   0 129\n",
            "  247  31   0   0   0   0   0   0   0   0]\n",
            " [  0   0   0   0   0   0   0   0   0   0   0   0   0   0   0   0   0 129\n",
            "  240   0   0   0   0   0   0   0   0   0]\n",
            " [  0   0   0   0   0   0   0   0   0   0   0   0   0   0   0   0   0 129\n",
            "  246  27   0   0   0   0   0   0   0   0]\n",
            " [  0   0   0   0   0   0   0   0   0   0   0   0   0   0   0   0   0  93\n",
            "  193   8   0   0   0   0   0   0   0   0]\n",
            " [  0   0   0   0   0   0   0   0   0   0   0   0   0   0   0   0   0   0\n",
            "    0   0   0   0   0   0   0   0   0   0]\n",
            " [  0   0   0   0   0   0   0   0   0   0   0   0   0   0   0   0   0   0\n",
            "    0   0   0   0   0   0   0   0   0   0]\n",
            " [  0   0   0   0   0   0   0   0   0   0   0   0   0   0   0   0   0   0\n",
            "    0   0   0   0   0   0   0   0   0   0]\n",
            " [  0   0   0   0   0   0   0   0   0   0   0   0   0   0   0   0   0   0\n",
            "    0   0   0   0   0   0   0   0   0   0]]\n",
            "x (shape): (28, 28)\n",
            "t: 4\n"
          ]
        },
        {
          "output_type": "display_data",
          "data": {
            "text/plain": [
              "<Figure size 500x500 with 2 Axes>"
            ],
            "image/png": "[encoded data removed]"
          },
          "metadata": {}
        }
      ]
    },
    {
      "cell_type": "code",
      "source": [
        "X_train = X_train.reshape(X_train.shape[0], 784).astype('float32') / 255.\n",
        "X_test = X_test.reshape(X_test.shape[0], 784).astype('float32') / 255."
      ],
      "metadata": {
        "id": "9oUBFjoTp4Xh"
      },
      "execution_count": 79,
      "outputs": []
    },
    {
      "cell_type": "code",
      "source": [
        "X_mean = np.mean(X_train, axis=0)\n",
        "X_train -= X_mean\n",
        "X_test -= X_mean\n",
        "\n",
        "\n",
        "plt.figure(figsize=(5, 5))\n",
        "plt.imshow(X_mean.reshape((28, 28))*255, cmap=\"gray\")\n",
        "plt.show()"
      ],
      "metadata": {
        "colab": {
          "base_uri": "https://localhost:8080/",
          "height": 445
        },
        "id": "RbfOKpbxp4Zh",
        "outputId": "24a3eed7-d24c-4f94-a915-3a3de77735bf"
      },
      "execution_count": 80,
      "outputs": [
        {
          "output_type": "display_data",
          "data": {
            "text/plain": [
              "<Figure size 500x500 with 1 Axes>"
            ],
            "image/png": "[encoded data removed]"
          },
          "metadata": {}
        }
      ]
    },
    {
      "cell_type": "code",
      "source": [
        "T_train = tf.keras.utils.to_categorical(t_train, 10)\n",
        "T_test = tf.keras.utils.to_categorical(t_test, 10)\n",
        "\n",
        "print(T_train[idx])"
      ],
      "metadata": {
        "colab": {
          "base_uri": "https://localhost:8080/"
        },
        "id": "3oCVb29ip4b_",
        "outputId": "05877c0b-426a-4241-b53e-95481ddda845"
      },
      "execution_count": 81,
      "outputs": [
        {
          "output_type": "stream",
          "name": "stdout",
          "text": [
            "[0. 0. 0. 0. 1. 0. 0. 0. 0. 0.]\n"
          ]
        }
      ]
    },
    {
      "cell_type": "code",
      "source": [
        "tf.keras.backend.clear_session()"
      ],
      "metadata": {
        "id": "co-0LH6G3TUq"
      },
      "execution_count": 82,
      "outputs": []
    },
    {
      "cell_type": "code",
      "source": [
        "model = tf.keras.models.Sequential()"
      ],
      "metadata": {
        "id": "_gqe9ZpO3TXd"
      },
      "execution_count": 83,
      "outputs": []
    },
    {
      "cell_type": "code",
      "source": [
        "model.add(tf.keras.layers.Input(shape=(784,)))"
      ],
      "metadata": {
        "id": "PJjZRP5R3TZh"
      },
      "execution_count": 84,
      "outputs": []
    },
    {
      "cell_type": "code",
      "source": [
        "model.add(tf.keras.layers.Dense(units=100))\n",
        "model.add(tf.keras.layers.Activation('sigmoid'))"
      ],
      "metadata": {
        "id": "oBpskSEH3Tb8"
      },
      "execution_count": 85,
      "outputs": []
    },
    {
      "cell_type": "code",
      "source": [
        "model.add(tf.keras.layers.Dense(units=10))\n",
        "model.add(tf.keras.layers.Activation('softmax'))"
      ],
      "metadata": {
        "id": "xPCzLgzj3boS"
      },
      "execution_count": 86,
      "outputs": []
    },
    {
      "cell_type": "code",
      "source": [
        "optimizer = tf.keras.optimizers.SGD(lr=0.01)"
      ],
      "metadata": {
        "colab": {
          "base_uri": "https://localhost:8080/"
        },
        "id": "NKTix55Q3bpn",
        "outputId": "476265c2-2428-4230-b599-58d00fae7bbe"
      },
      "execution_count": 87,
      "outputs": [
        {
          "output_type": "stream",
          "name": "stderr",
          "text": [
            "WARNING:absl:`lr` is deprecated in Keras optimizer, please use `learning_rate` or use the legacy optimizer, e.g.,tf.keras.optimizers.legacy.SGD.\n"
          ]
        }
      ]
    },
    {
      "cell_type": "code",
      "source": [
        "tf.keras.backend.clear_session()\n",
        "\n",
        "model = tf.keras.models.Sequential()\n",
        "\n",
        "model.add(tf.keras.layers.Input(shape=(784,)))\n",
        "\n",
        "model.add(tf.keras.layers.Dense(units=100))\n",
        "model.add(tf.keras.layers.Activation('sigmoid'))\n",
        "\n",
        "model.add(tf.keras.layers.Dense(units=10))\n",
        "model.add(tf.keras.layers.Activation('softmax'))\n",
        "\n",
        "optimizer = tf.keras.optimizers.SGD(lr=0.01)\n",
        "\n",
        "model.compile(\n",
        "    loss='categorical_crossentropy',\n",
        "    optimizer=optimizer,\n",
        "    metrics=['accuracy']\n",
        ")"
      ],
      "metadata": {
        "colab": {
          "base_uri": "https://localhost:8080/"
        },
        "id": "6jSOuEbDp4eI",
        "outputId": "80e511ed-1a54-4131-def8-34fab5a2a82d"
      },
      "execution_count": 88,
      "outputs": [
        {
          "output_type": "stream",
          "name": "stderr",
          "text": [
            "WARNING:absl:`lr` is deprecated in Keras optimizer, please use `learning_rate` or use the legacy optimizer, e.g.,tf.keras.optimizers.legacy.SGD.\n"
          ]
        }
      ]
    },
    {
      "cell_type": "code",
      "source": [
        "print(model.summary())"
      ],
      "metadata": {
        "colab": {
          "base_uri": "https://localhost:8080/"
        },
        "id": "yMISv7otp4ha",
        "outputId": "0f29cde9-9641-4ec3-90f9-d22cea9ec5c5"
      },
      "execution_count": 89,
      "outputs": [
        {
          "output_type": "stream",
          "name": "stdout",
          "text": [
            "Model: \"sequential\"\n",
            "_________________________________________________________________\n",
            " Layer (type)                Output Shape              Param #   \n",
            "=================================================================\n",
            " dense (Dense)               (None, 100)               78500     \n",
            "                                                                 \n",
            " activation (Activation)     (None, 100)               0         \n",
            "                                                                 \n",
            " dense_1 (Dense)             (None, 10)                1010      \n",
            "                                                                 \n",
            " activation_1 (Activation)   (None, 10)                0         \n",
            "                                                                 \n",
            "=================================================================\n",
            "Total params: 79510 (310.59 KB)\n",
            "Trainable params: 79510 (310.59 KB)\n",
            "Non-trainable params: 0 (0.00 Byte)\n",
            "_________________________________________________________________\n",
            "None\n"
          ]
        }
      ]
    },
    {
      "cell_type": "code",
      "source": [
        "history = tf.keras.callbacks.History()\n",
        "\n",
        "model.fit(\n",
        "    X_train, T_train,\n",
        "    batch_size=128,\n",
        "    epochs=20,\n",
        "    validation_split=0.1,\n",
        "    callbacks=[history]\n",
        ")"
      ],
      "metadata": {
        "colab": {
          "base_uri": "https://localhost:8080/"
        },
        "id": "0pZxVHUAp4oo",
        "outputId": "0ab1f70c-7535-49dc-eee6-84a5c0b0a5de"
      },
      "execution_count": 90,
      "outputs": [
        {
          "output_type": "stream",
          "name": "stdout",
          "text": [
            "Epoch 1/20\n",
            "422/422 [==============================] - 3s 6ms/step - loss: 2.0645 - accuracy: 0.4631 - val_loss: 1.7985 - val_accuracy: 0.6642\n",
            "Epoch 2/20\n",
            "422/422 [==============================] - 4s 8ms/step - loss: 1.6172 - accuracy: 0.6901 - val_loss: 1.3909 - val_accuracy: 0.7672\n",
            "Epoch 3/20\n",
            "422/422 [==============================] - 3s 8ms/step - loss: 1.2834 - accuracy: 0.7542 - val_loss: 1.0988 - val_accuracy: 0.8182\n",
            "Epoch 4/20\n",
            "422/422 [==============================] - 3s 6ms/step - loss: 1.0536 - accuracy: 0.7930 - val_loss: 0.9038 - val_accuracy: 0.8462\n",
            "Epoch 5/20\n",
            "422/422 [==============================] - 3s 7ms/step - loss: 0.8992 - accuracy: 0.8154 - val_loss: 0.7720 - val_accuracy: 0.8615\n",
            "Epoch 6/20\n",
            "422/422 [==============================] - 4s 9ms/step - loss: 0.7924 - accuracy: 0.8307 - val_loss: 0.6788 - val_accuracy: 0.8725\n",
            "Epoch 7/20\n",
            "422/422 [==============================] - 5s 11ms/step - loss: 0.7154 - accuracy: 0.8432 - val_loss: 0.6109 - val_accuracy: 0.8797\n",
            "Epoch 8/20\n",
            "422/422 [==============================] - 3s 8ms/step - loss: 0.6578 - accuracy: 0.8507 - val_loss: 0.5596 - val_accuracy: 0.8855\n",
            "Epoch 9/20\n",
            "422/422 [==============================] - 3s 8ms/step - loss: 0.6131 - accuracy: 0.8572 - val_loss: 0.5198 - val_accuracy: 0.8908\n",
            "Epoch 10/20\n",
            "422/422 [==============================] - 4s 9ms/step - loss: 0.5777 - accuracy: 0.8617 - val_loss: 0.4880 - val_accuracy: 0.8952\n",
            "Epoch 11/20\n",
            "422/422 [==============================] - 4s 10ms/step - loss: 0.5489 - accuracy: 0.8661 - val_loss: 0.4622 - val_accuracy: 0.8963\n",
            "Epoch 12/20\n",
            "422/422 [==============================] - 2s 4ms/step - loss: 0.5250 - accuracy: 0.8704 - val_loss: 0.4407 - val_accuracy: 0.8987\n",
            "Epoch 13/20\n",
            "422/422 [==============================] - 2s 4ms/step - loss: 0.5050 - accuracy: 0.8729 - val_loss: 0.4227 - val_accuracy: 0.9007\n",
            "Epoch 14/20\n",
            "422/422 [==============================] - 2s 4ms/step - loss: 0.4878 - accuracy: 0.8758 - val_loss: 0.4074 - val_accuracy: 0.9023\n",
            "Epoch 15/20\n",
            "422/422 [==============================] - 2s 4ms/step - loss: 0.4730 - accuracy: 0.8779 - val_loss: 0.3943 - val_accuracy: 0.9045\n",
            "Epoch 16/20\n",
            "422/422 [==============================] - 2s 4ms/step - loss: 0.4601 - accuracy: 0.8801 - val_loss: 0.3828 - val_accuracy: 0.9065\n",
            "Epoch 17/20\n",
            "422/422 [==============================] - 2s 4ms/step - loss: 0.4488 - accuracy: 0.8819 - val_loss: 0.3727 - val_accuracy: 0.9077\n",
            "Epoch 18/20\n",
            "422/422 [==============================] - 3s 6ms/step - loss: 0.4387 - accuracy: 0.8838 - val_loss: 0.3640 - val_accuracy: 0.9075\n",
            "Epoch 19/20\n",
            "422/422 [==============================] - 2s 5ms/step - loss: 0.4297 - accuracy: 0.8853 - val_loss: 0.3559 - val_accuracy: 0.9087\n",
            "Epoch 20/20\n",
            "422/422 [==============================] - 2s 4ms/step - loss: 0.4215 - accuracy: 0.8868 - val_loss: 0.3489 - val_accuracy: 0.9090\n"
          ]
        },
        {
          "output_type": "execute_result",
          "data": {
            "text/plain": [
              "<keras.src.callbacks.History at 0x7f915c9a84c0>"
            ]
          },
          "metadata": {},
          "execution_count": 90
        }
      ]
    },
    {
      "cell_type": "code",
      "source": [
        "score = model.evaluate(X_test, T_test, verbose=0)\n",
        "\n",
        "print('Test loss:', score[0])\n",
        "print('Test accuracy:', score[1])"
      ],
      "metadata": {
        "colab": {
          "base_uri": "https://localhost:8080/"
        },
        "id": "9GBiiDnhp4rN",
        "outputId": "77837b01-acc3-4d23-86a9-e184bfb5a25d"
      },
      "execution_count": 91,
      "outputs": [
        {
          "output_type": "stream",
          "name": "stdout",
          "text": [
            "Test loss: 0.3930259644985199\n",
            "Test accuracy: 0.8952999711036682\n"
          ]
        }
      ]
    },
    {
      "cell_type": "code",
      "source": [
        "plt.figure(figsize=(15, 6))\n",
        "\n",
        "plt.subplot(121)\n",
        "plt.plot(history.history['loss'], '-r', label=\"Training\")\n",
        "plt.plot(history.history['val_loss'], '-b', label=\"Validation\")\n",
        "plt.xlabel('Epoch #')\n",
        "plt.ylabel('Loss')\n",
        "plt.legend()\n",
        "\n",
        "plt.subplot(122)\n",
        "plt.plot(history.history['accuracy'], '-r', label=\"Training\")\n",
        "plt.plot(history.history['val_accuracy'], '-b', label=\"Validation\")\n",
        "plt.xlabel('Epoch #')\n",
        "plt.ylabel('Accuracy')\n",
        "plt.legend()\n",
        "\n",
        "plt.show()"
      ],
      "metadata": {
        "colab": {
          "base_uri": "https://localhost:8080/",
          "height": 542
        },
        "id": "oFR05nqUp4t0",
        "outputId": "0918969b-5afb-4629-8c34-4a90528d4402"
      },
      "execution_count": 92,
      "outputs": [
        {
          "output_type": "display_data",
          "data": {
            "text/plain": [
              "<Figure size 1500x600 with 2 Axes>"
            ],
            "image/png": "[encoded data removed]"
          },
          "metadata": {}
        }
      ]
    },
    {
      "cell_type": "markdown",
      "source": [
        "#ANSWER 1\n",
        "\n",
        "There is no overfitting as the validation data is in similar curve to the training data. Looking at the curves, we can still look for more epochs"
      ],
      "metadata": {
        "id": "ua-Ennfi5vyU"
      }
    },
    {
      "cell_type": "code",
      "source": [
        "Y_test = model.predict(X_test)\n",
        "c_test = np.argmax(Y_test, axis=-1)\n",
        "\n",
        "misclassification = (c_test != t_test).nonzero()[0]\n",
        "\n",
        "plt.figure(figsize=(10, 8))\n",
        "for i in range(12):\n",
        "    plt.subplot(3, 4, i+1)\n",
        "    plt.imshow((X_test[misclassification[i], :] + X_mean).reshape((28, 28)), cmap=plt.cm.gray, interpolation='nearest')\n",
        "    plt.title('P = ' + str(c_test[misclassification[i]]) + ' ; T = ' + str(t_test[misclassification[i]]))\n",
        "    plt.xticks([]); plt.yticks([])\n",
        "plt.show()"
      ],
      "metadata": {
        "colab": {
          "base_uri": "https://localhost:8080/",
          "height": 679
        },
        "id": "D2M8hB4E57lu",
        "outputId": "e20a79ba-b065-43e8-f3bf-a6a76effd1a4"
      },
      "execution_count": 93,
      "outputs": [
        {
          "output_type": "stream",
          "name": "stdout",
          "text": [
            "313/313 [==============================] - 1s 2ms/step\n"
          ]
        },
        {
          "output_type": "display_data",
          "data": {
            "text/plain": [
              "<Figure size 1000x800 with 12 Axes>"
            ],
            "image/png": "[encoded data removed]"
          },
          "metadata": {}
        }
      ]
    },
    {
      "cell_type": "markdown",
      "source": [
        "#ANSWER 2\n",
        "\n",
        "No, Some numbers predicted are completly unrelated in stroke design with the actual value. hence it cannot be ignored.\n",
        "For example, the third predicted value is 3 but the trained data value is 1 which do not have any similarities. Another predicted value is 4 but the actual value is 7.\n",
        "One more example is predicted 2 but actual value is 3.\n",
        "\n",
        "\n",
        "\n",
        "\n"
      ],
      "metadata": {
        "id": "0JbSWVWQ53AX"
      }
    },
    {
      "cell_type": "markdown",
      "source": [
        "#ANSWER 3\n",
        "\n"
      ],
      "metadata": {
        "id": "nMzLUFuVi85M"
      }
    },
    {
      "cell_type": "code",
      "source": [
        "tf.keras.backend.clear_session()\n",
        "\n",
        "model = tf.keras.models.Sequential()\n",
        "\n",
        "\n",
        "model.add(tf.keras.layers.Dense(units=100))\n",
        "model.add(tf.keras.layers.Activation('relu'))\n",
        "\n",
        "model.add(tf.keras.layers.Dense(50, kernel_regularizer=tf.keras.regularizers.l2(0.0001 )))\n",
        "\n",
        "model.add(tf.keras.layers.Dense(units=100))\n",
        "model.add(tf.keras.layers.Activation('sigmoid'))\n",
        "\n",
        "model.add(tf.keras.layers.Dense(units=10))\n",
        "model.add(tf.keras.layers.Activation('softmax'))\n",
        "\n",
        "optimizer = tf.keras.optimizers.SGD(lr=0.001, momentum=0.9, nesterov=True)\n",
        "\n",
        "model.compile(\n",
        "    loss='categorical_crossentropy',\n",
        "    optimizer=optimizer,\n",
        "    metrics=['accuracy']\n",
        ")\n",
        "\n",
        "history = tf.keras.callbacks.History()\n",
        "\n",
        "\n",
        "model.fit(\n",
        "    X_train, T_train,\n",
        "    batch_size=16 ,\n",
        "    epochs=20,\n",
        "    validation_split=0.1,\n",
        "    callbacks=[history]\n",
        ")"
      ],
      "metadata": {
        "colab": {
          "base_uri": "https://localhost:8080/"
        },
        "id": "bK6EYPXDKRVC",
        "outputId": "c8c8be00-49f2-4dbf-ae7d-6dff5a93b5a6"
      },
      "execution_count": 156,
      "outputs": [
        {
          "output_type": "stream",
          "name": "stderr",
          "text": [
            "WARNING:absl:`lr` is deprecated in Keras optimizer, please use `learning_rate` or use the legacy optimizer, e.g.,tf.keras.optimizers.legacy.SGD.\n"
          ]
        },
        {
          "output_type": "stream",
          "name": "stdout",
          "text": [
            "Epoch 1/20\n",
            "3375/3375 [==============================] - 15s 4ms/step - loss: 0.3080 - accuracy: 0.9099 - val_loss: 0.1314 - val_accuracy: 0.9650\n",
            "Epoch 2/20\n",
            "3375/3375 [==============================] - 12s 4ms/step - loss: 0.1162 - accuracy: 0.9675 - val_loss: 0.1112 - val_accuracy: 0.9695\n",
            "Epoch 3/20\n",
            "3375/3375 [==============================] - 12s 3ms/step - loss: 0.0820 - accuracy: 0.9774 - val_loss: 0.0904 - val_accuracy: 0.9767\n",
            "Epoch 4/20\n",
            "3375/3375 [==============================] - 12s 4ms/step - loss: 0.0655 - accuracy: 0.9829 - val_loss: 0.0873 - val_accuracy: 0.9783\n",
            "Epoch 5/20\n",
            "3375/3375 [==============================] - 12s 4ms/step - loss: 0.0526 - accuracy: 0.9872 - val_loss: 0.0864 - val_accuracy: 0.9805\n",
            "Epoch 6/20\n",
            "3375/3375 [==============================] - 12s 3ms/step - loss: 0.0435 - accuracy: 0.9897 - val_loss: 0.0869 - val_accuracy: 0.9783\n",
            "Epoch 7/20\n",
            "3375/3375 [==============================] - 12s 3ms/step - loss: 0.0359 - accuracy: 0.9919 - val_loss: 0.0865 - val_accuracy: 0.9803\n",
            "Epoch 8/20\n",
            "3375/3375 [==============================] - 13s 4ms/step - loss: 0.0305 - accuracy: 0.9939 - val_loss: 0.0920 - val_accuracy: 0.9782\n",
            "Epoch 9/20\n",
            "3375/3375 [==============================] - 12s 4ms/step - loss: 0.0242 - accuracy: 0.9961 - val_loss: 0.0911 - val_accuracy: 0.9783\n",
            "Epoch 10/20\n",
            "3375/3375 [==============================] - 12s 4ms/step - loss: 0.0207 - accuracy: 0.9969 - val_loss: 0.0865 - val_accuracy: 0.9815\n",
            "Epoch 11/20\n",
            "3375/3375 [==============================] - 12s 4ms/step - loss: 0.0171 - accuracy: 0.9981 - val_loss: 0.0875 - val_accuracy: 0.9813\n",
            "Epoch 12/20\n",
            "3375/3375 [==============================] - 12s 4ms/step - loss: 0.0140 - accuracy: 0.9989 - val_loss: 0.0821 - val_accuracy: 0.9813\n",
            "Epoch 13/20\n",
            "3375/3375 [==============================] - 11s 3ms/step - loss: 0.0113 - accuracy: 0.9996 - val_loss: 0.0854 - val_accuracy: 0.9810\n",
            "Epoch 14/20\n",
            "3375/3375 [==============================] - 11s 3ms/step - loss: 0.0098 - accuracy: 0.9998 - val_loss: 0.0855 - val_accuracy: 0.9813\n",
            "Epoch 15/20\n",
            "3375/3375 [==============================] - 12s 4ms/step - loss: 0.0095 - accuracy: 0.9996 - val_loss: 0.0825 - val_accuracy: 0.9820\n",
            "Epoch 16/20\n",
            "3375/3375 [==============================] - 13s 4ms/step - loss: 0.0082 - accuracy: 0.9998 - val_loss: 0.0821 - val_accuracy: 0.9820\n",
            "Epoch 17/20\n",
            "3375/3375 [==============================] - 12s 4ms/step - loss: 0.0073 - accuracy: 0.9999 - val_loss: 0.0807 - val_accuracy: 0.9818\n",
            "Epoch 18/20\n",
            "3375/3375 [==============================] - 12s 4ms/step - loss: 0.0069 - accuracy: 0.9998 - val_loss: 0.0828 - val_accuracy: 0.9815\n",
            "Epoch 19/20\n",
            "3375/3375 [==============================] - 12s 4ms/step - loss: 0.0063 - accuracy: 0.9999 - val_loss: 0.0817 - val_accuracy: 0.9815\n",
            "Epoch 20/20\n",
            "3375/3375 [==============================] - 11s 3ms/step - loss: 0.0058 - accuracy: 0.9999 - val_loss: 0.0810 - val_accuracy: 0.9817\n"
          ]
        },
        {
          "output_type": "execute_result",
          "data": {
            "text/plain": [
              "<keras.src.callbacks.History at 0x7f915df7a1a0>"
            ]
          },
          "metadata": {},
          "execution_count": 156
        }
      ]
    },
    {
      "cell_type": "code",
      "source": [
        "score = model.evaluate(X_test, T_test, verbose=0)\n",
        "\n",
        "print('Test loss:', score[0])\n",
        "print('Test accuracy:', score[1])"
      ],
      "metadata": {
        "colab": {
          "base_uri": "https://localhost:8080/"
        },
        "id": "ZgUeYcUFicri",
        "outputId": "12ddb29d-7e80-4dea-ddf6-1c916f2b9fba"
      },
      "execution_count": 157,
      "outputs": [
        {
          "output_type": "stream",
          "name": "stdout",
          "text": [
            "Test loss: 0.07605146616697311\n",
            "Test accuracy: 0.9810000061988831\n"
          ]
        }
      ]
    }
  ]
}